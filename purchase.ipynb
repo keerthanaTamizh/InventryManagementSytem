{
  "nbformat": 4,
  "nbformat_minor": 0,
  "metadata": {
    "colab": {
      "name": "Copy of purchase.ipynb",
      "provenance": [],
      "collapsed_sections": []
    },
    "kernelspec": {
      "name": "python3",
      "display_name": "Python 3"
    },
    "language_info": {
      "name": "python"
    }
  },
  "cells": [
    {
      "cell_type": "code",
      "metadata": {
        "id": "yVyg5GhT1IWt"
      },
      "source": [
        "import json\n",
        "fd=open('recordIMS.json','r')\n",
        "r=fd.read()\n",
        "fd.close()\n",
        "rec=json.loads(r)"
      ],
      "execution_count": null,
      "outputs": []
    },
    {
      "cell_type": "code",
      "metadata": {
        "id": "qAZnMzXa1K4W"
      },
      "source": [
        "def reading():\n",
        "  fd=open(\"recordIMS.json\",'r')\n",
        "  rec=fd.read()\n",
        "  fd.close()\n",
        "  return rec"
      ],
      "execution_count": null,
      "outputs": []
    },
    {
      "cell_type": "code",
      "metadata": {
        "id": "s0Ke4Jrn1d-3"
      },
      "source": [
        "def purchase():\n",
        "  prod_id=int (input(\"enter the product id:\"))\n",
        "  name=input(\"enter the product name:\")\n",
        "  price=int (input(\"enter the price:\"))\n",
        "  quantity=int(input(\"enter the quantity:\"))\n",
        "  rec[prod_id]={\"name\":name,\"qn\":quantity,\"pr\":price}\n",
        "  j=json.dumps(rec)\n",
        "  f=open(\"recordIMS.json\",'w')\n",
        "  f.write(j)\n",
        "  f.close()"
      ],
      "execution_count": null,
      "outputs": []
    },
    {
      "cell_type": "code",
      "metadata": {
        "id": "hdzE5QNb1j0C"
      },
      "source": [
        "def check():\n",
        "  rec=json.loads(reading())\n",
        "  for key in rec.keys():\n",
        "    if (rec[key]['qn']==0):\n",
        "      print(\"....Update the stocks of {0}...\".format(key))\n",
        "      n=input(\"need to continue Y/n:\")\n",
        "      if (n==\"Y\" or n==\"y\"):\n",
        "        rec[key]['qn']=int (input(\"enter the quantity\"))\n",
        "        f=open(\"recordIMS.json\",'w')\n",
        "        f.write(json.dumps(rec))\n",
        "        f.close()"
      ],
      "execution_count": null,
      "outputs": []
    },
    {
      "cell_type": "code",
      "metadata": {
        "id": "zS86M2Fb1nRT"
      },
      "source": [
        "def display():\n",
        "  print(\".........WELCOME TO INVENTORY MANAGEMENT.......\")\n",
        "  print(\"\"\"1.purchase\n",
        "  2.check the available quantity\"\"\")\n",
        "  choice=int (input(\"enter the choice\"))\n",
        "  if (choice==1):\n",
        "    purchase()\n",
        "  elif (choice==2):\n",
        "    check()\n",
        "  else:\n",
        "    print(\"entered wrong choice\")"
      ],
      "execution_count": null,
      "outputs": []
    },
    {
      "cell_type": "code",
      "metadata": {
        "colab": {
          "base_uri": "https://localhost:8080/"
        },
        "id": "XucDLTH91rcg",
        "outputId": "f3157d97-8930-4736-8b6f-604c3e3ac7a5"
      },
      "source": [
        "display()"
      ],
      "execution_count": null,
      "outputs": [
        {
          "name": "stdout",
          "output_type": "stream",
          "text": [
            ".........WELCOME TO INVENTORY MANAGEMENT.......\n",
            "1.purchase\n",
            "  2.check the available quantity\n",
            "enter the choice1\n",
            "enter the product id:1031\n",
            "enter the product name:Masala\n",
            "enter the price:20\n",
            "enter the quantity:200\n"
          ]
        }
      ]
    }
  ]
}