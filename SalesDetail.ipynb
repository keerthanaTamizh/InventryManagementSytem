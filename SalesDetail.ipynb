{
  "nbformat": 4,
  "nbformat_minor": 0,
  "metadata": {
    "colab": {
      "name": "SalesDetail.ipynb",
      "provenance": [],
      "collapsed_sections": []
    },
    "kernelspec": {
      "name": "python3",
      "display_name": "Python 3"
    },
    "language_info": {
      "name": "python"
    }
  },
  "cells": [
    {
      "cell_type": "code",
      "metadata": {
        "id": "OI1N0qJ5Yty0"
      },
      "source": [
        "def readeditem():\n",
        "    print(\"        !!!!Items In Inventry!!!!      \")\n",
        "    print(\"\\n\")\n",
        "    print(\"***PRODUCT ID***\",\"\\t\",  \"***PRODUCT***\")\n",
        "    print()\n",
        "    for key in dct:\n",
        "        print(key,\"\\t\",\"\\t\\t\",dct[key]['name'])"
      ],
      "execution_count": 189,
      "outputs": []
    },
    {
      "cell_type": "code",
      "metadata": {
        "id": "-8zqUUVT02AU"
      },
      "source": [
        "def sale(a,b):\n",
        "    fd = open('sales.json','r')\n",
        "    s=json.loads(fd.read())\n",
        "    id=len(s)+1\n",
        "    s[id]={\"Product ID\":a,\"qn\":b}\n",
        "    fd = open('sales.json','w')\n",
        "    fd.write(json.dumps(s))\n",
        "    fd.close()"
      ],
      "execution_count": 190,
      "outputs": []
    },
    {
      "cell_type": "code",
      "metadata": {
        "colab": {
          "base_uri": "https://localhost:8080/"
        },
        "id": "L8mD_mvghHZz",
        "outputId": "18caf9ed-6196-4d30-96f2-f800d52d0d20"
      },
      "source": [
        "import json\n",
        "fd=open('recordIMS.json','r')\n",
        "txt=fd.read()\n",
        "fd.close()\n",
        "dct=json.loads(txt)\n",
        "readeditem()\n",
        "print(\"Please Enter Your ProductID:\")\n",
        "a=str(input())\n",
        "print(\"Please Enter Your Quantity\")\n",
        "b=int(input())\n",
        "if (a not in dct.keys()):\n",
        "    print(\"Oh..No!!...***Please enter correct product ID***\") \n",
        "elif (dct[a][\"qn\"] == 0):\n",
        "    print(\"product not available\")\n",
        "elif (dct[a][\"qn\"] < b):\n",
        "    print(\"Available quantity is:\",dct[a][\"qn\"])\n",
        "else:\n",
        "    print(\"your bill\")\n",
        "    bill = dct[a][\"pr\"]*b\n",
        "    print(\"price of \"+str(b)+\" \"+str(dct[a][\"name\"])+\" \"+\"is : \"+str(bill))\n",
        "    sale(a,b)\n",
        "    dct[a][\"qn\"]=dct[a][\"qn\"]-b \n",
        "    f=open(\"recordIMS.json\",'w')\n",
        "    f.write(json.dumps(dct))\n",
        "    f.close()\n",
        "\n",
        "\n",
        "    \n",
        "\n",
        "\n",
        "\n"
      ],
      "execution_count": 191,
      "outputs": [
        {
          "output_type": "stream",
          "name": "stdout",
          "text": [
            "        !!!!Items In Inventry!!!!      \n",
            "\n",
            "\n",
            "***PRODUCT ID*** \t ***PRODUCT***\n",
            "\n",
            "1001 \t \t\t Choco Cake\n",
            "1002 \t \t\t Milk Cake\n",
            "1003 \t \t\t Drink\n",
            "1004 \t \t\t Candy\n",
            "1005 \t \t\t Pen\n",
            "1006 \t \t\t Phone\n",
            "1007 \t \t\t Mic\n",
            "1008 \t \t\t Case\n",
            "1009 \t \t\t Keyboard\n",
            "Please Enter Your ProductID:\n",
            "1000\n",
            "Please Enter Your Quantity\n",
            "2\n",
            "Please enter correct product ID\n"
          ]
        }
      ]
    }
  ]
}